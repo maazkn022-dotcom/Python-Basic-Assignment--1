{
  "nbformat": 4,
  "nbformat_minor": 0,
  "metadata": {
    "colab": {
      "provenance": []
    },
    "kernelspec": {
      "name": "python3",
      "display_name": "Python 3"
    },
    "language_info": {
      "name": "python"
    }
  },
  "cells": [
    {
      "cell_type": "markdown",
      "source": [
        "# ***Python Basic theoretical :-***"
      ],
      "metadata": {
        "id": "b_nmXD_ZkCwA"
      }
    },
    {
      "cell_type": "markdown",
      "source": [
        "1.  What is Python, and why is it popular?\n",
        "\n",
        "    Ans:- Python is a high-level, general purpose programming language created by Guido van Rossum and first released in 1991. Its designed with a strong focus on readability and simplicity, allowing developers to express complex ideas in fewer lines of code compared to many other languages.\n",
        "\n",
        "2.  What is an interpreter in Python?\n",
        "\n",
        "    Ans:- In Python, an interpreter is the program that reads and executes your Python code line by line, converting it into a form your computer can actually run.\n",
        "\n",
        "3.  What are pre-defined keywords in Python?\n",
        "\n",
        "    Ans:- In Python, pre-defined keywords are reserved words that have special, fixed meanings in the languages syntax.\n",
        "    You cannot use them as variable names, function names, or identifiers because Python uses them to define the structure and rules of your code.\n",
        "\n",
        "4.  Can keywords be used as variable names?\n",
        "\n",
        "    Ans:- No, in Python keywords cannot be used as variable names because they are reserved words that have special meaning in the language's syntax.\n",
        "\n",
        "5.  What is mutability in Python?\n",
        "\n",
        "    Ans:- In Python, mutability refers to whether the contents (internal state) of an object can be changed after it's created.\n",
        "    like we can change - list, dict, set etc.\n",
        "\n",
        "6.  Why are lists mutable, but tuples are immutable?\n",
        "\n",
        "    And:- Lists are built for changing collections they use a resizable array so you can insert, delete, or reassign items in place. Tuples are built for fixed records once created, their set and order of elements are locked, and there are no mutating methods. This immutability makes tuples slightly leaner and lets them be used as dictionary keys or set elements.\n",
        "\n",
        "7.  What is the difference between “==” and “is” operators in Python?\n",
        "\n",
        "    Ans:- In Python, == and \"is\" both compare things, but they check different kinds of equality:-\n",
        "    == Compares values, the contents are the same or not.\n",
        "    but, \"is\" Compares object identity they are the exact same object in memory or not.\n",
        "\n",
        "8.  What are logical operators in Python?\n",
        "\n",
        "    Ans:- Logical operators in Python are:- and, or, not.\n",
        "    In Python Logical operators are used to combine or modify conditions that evaluate to True or False.\n",
        "\n",
        "9.  What is type casting in Python?\n",
        "\n",
        "    Ans:- In Python, type casting means converting a value from one data type to another so it can be used in a specific way.\n",
        "    There are to types \"type casting\" : implicit and explicit.\n",
        "\n",
        "10. What is the difference between implicit and explicit type casting?\n",
        "\n",
        "    Ans:- Implicit type casting is when Python automatically converts one data type to another during an operation, without any action from the programmer, and only when its safe to do so without losing information.\n",
        "    \n",
        "    Explicit type casting is when the programmer manually converts a value from one data type to another using built in conversion functions, giving full control over how the conversion happens.\n",
        "\n",
        "11. What is the purpose of conditional statements in Python?\n",
        "\n",
        "    Ans:- Conditional statements in Python are like the decision makers of your code they let your program choose different paths based on specific conditions. Think of them as the \"if this, then that\" logic that mirrors real life choices.\n",
        "\n",
        "12. How does the elif statement work?\n",
        "\n",
        "    Ans:- The elif statement in Python is short for \"else if\"band it's used when you want to check multiple conditions but only one of them should run.\n",
        "\n",
        "13. What is the difference between for and while loops?\n",
        "\n",
        "    Ans:- In Python, for and while loops are used for repetition, but they serve different purposes.\n",
        "    \"for\" loop is ideal when the number of iterations is known or when looping through a sequence like a list or range. It's concise and automatically handles iteration.\n",
        "    \"while\" loop on the other hand, is used when the number of repetitions depends on a condition being true. It offers more flexibility but requires manual control and can lead to infinite loops if not handled carefully.\n",
        "\n",
        "14. Describe a scenario where a while loop is more suitable than a for loop.\n",
        "\n",
        "    Ans:-  A \"while\" loop is more suitable when the number of iterations is not known in advance and depends on a condition that can change unpredictably. For example, in a user authentication system, you might keep prompting the user for a password until they enter the correct one. Since you don’t know how many attempts they will need, a \"while\" loop is ideal it continues running as long as the condition (incorrect password) remains true. This kind of loop gives you flexibility and control over the flow, especially when dealing with dynamic inputs, real-time events, or uncertain outcomes.\n",
        "\n",
        "    \n",
        "\n",
        "\n",
        "\n",
        "\n",
        "\n",
        "\n",
        "\n",
        "\n",
        "\n",
        "\n",
        "\n",
        "\n",
        "\n",
        "\n",
        "\n",
        "\n",
        "\n",
        "\n",
        "\n",
        "\n",
        "\n",
        "\n",
        "\n"
      ],
      "metadata": {
        "id": "Yh56fi3LbOxj"
      }
    }
  ]
}